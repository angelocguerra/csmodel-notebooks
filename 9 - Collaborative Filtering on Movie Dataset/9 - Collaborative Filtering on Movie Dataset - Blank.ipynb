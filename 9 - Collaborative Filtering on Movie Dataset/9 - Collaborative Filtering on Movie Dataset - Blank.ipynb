{
 "cells": [
  {
   "cell_type": "markdown",
   "metadata": {},
   "source": [
    "# Collaborative Filtering on Movie Dataset\n",
    "In this Notebook, we will be implementing an algorithm to perform collaborative filtering to a dataset. We will test our algorithm with a small synthetic (artificial) dataset, before we use the algorithm to recommend items from a larger dataset - the [MovieLens dataset](https://grouplens.org/datasets/movielens/100k/)\n",
    "\n",
    "Our Notebooks in CSMODEL are designed to be guided learning activities. To use them, simply go through the cells from top to bottom, following the directions along the way. If you find any unclear parts or mistakes in the Notebooks, email your instructor."
   ]
  },
  {
   "cell_type": "markdown",
   "metadata": {},
   "source": [
    "## Instructions\n",
    "* Read each cell and implement the TODOs sequentially. The markdown/text cells also contain instructions which you need to follow to get the whole notebook working.\n",
    "* Do not change the variable names unless the instructor allows you to.\n",
    "* Answer all the markdown/text cells with 'Question #' on them. The answer must strictly consume one line only.\n",
    "* You are expected to search how to some functions work on the Internet or via the docs. \n",
    "* The notebooks will undergo a 'Restart and Run All' command, so make sure that your code is working properly.\n",
    "* You are expected to understand the dataset loading and processing separately from this class.\n",
    "* You may not reproduce this notebook or share them to anyone."
   ]
  },
  {
   "cell_type": "markdown",
   "metadata": {},
   "source": [
    "## Import\n",
    "Import **pandas** and **matplotlib**."
   ]
  },
  {
   "cell_type": "code",
   "execution_count": 36,
   "metadata": {},
   "outputs": [
    {
     "name": "stdout",
     "output_type": "stream",
     "text": [
      "The autoreload extension is already loaded. To reload it, use:\n",
      "  %reload_ext autoreload\n"
     ]
    }
   ],
   "source": [
    "import numpy as np\n",
    "import pandas as pd\n",
    "import matplotlib.pyplot as plt\n",
    "\n",
    "%load_ext autoreload\n",
    "%autoreload 2"
   ]
  },
  {
   "cell_type": "markdown",
   "metadata": {},
   "source": [
    "## Synthetic Dataset\n",
    "Before we use a more complicated dataset, we will first demonstrate collaborative filtering using a synthetic (artificial) data drawn from a random sample. Suppose that the values in the synthetic dataset represents the ratings, on a scale of 1 to 5, of people to different movies. Each row represents a movie, while each column represents a person. The synthetic dataset contains 6 different movies rated by 8 different people. A value of `0` means that the person has not rated that movie yet."
   ]
  },
  {
   "cell_type": "code",
   "execution_count": 37,
   "metadata": {},
   "outputs": [
    {
     "name": "stdout",
     "output_type": "stream",
     "text": [
      "[[1 1 5 1 3 4 5 4]\n",
      " [1 0 0 0 2 2 4 0]\n",
      " [1 2 2 4 5 5 0 5]\n",
      " [4 4 2 3 4 3 0 2]\n",
      " [5 1 4 1 0 4 4 5]\n",
      " [3 5 0 4 0 0 5 2]]\n"
     ]
    }
   ],
   "source": [
    "np.random.seed(16)\n",
    "data = np.random.choice(6, (6, 8))\n",
    "print(data)"
   ]
  },
  {
   "cell_type": "markdown",
   "metadata": {},
   "source": [
    "Convert the data type of the dataset from `numpy` arrays to `pandas` `DataFrame`."
   ]
  },
  {
   "cell_type": "code",
   "execution_count": 38,
   "metadata": {},
   "outputs": [
    {
     "data": {
      "text/html": [
       "<div>\n",
       "<style scoped>\n",
       "    .dataframe tbody tr th:only-of-type {\n",
       "        vertical-align: middle;\n",
       "    }\n",
       "\n",
       "    .dataframe tbody tr th {\n",
       "        vertical-align: top;\n",
       "    }\n",
       "\n",
       "    .dataframe thead th {\n",
       "        text-align: right;\n",
       "    }\n",
       "</style>\n",
       "<table border=\"1\" class=\"dataframe\">\n",
       "  <thead>\n",
       "    <tr style=\"text-align: right;\">\n",
       "      <th></th>\n",
       "      <th>User 0</th>\n",
       "      <th>User 1</th>\n",
       "      <th>User 2</th>\n",
       "      <th>User 3</th>\n",
       "      <th>User 4</th>\n",
       "      <th>User 5</th>\n",
       "      <th>User 6</th>\n",
       "      <th>User 7</th>\n",
       "    </tr>\n",
       "  </thead>\n",
       "  <tbody>\n",
       "    <tr>\n",
       "      <th>Movie 0</th>\n",
       "      <td>1</td>\n",
       "      <td>1</td>\n",
       "      <td>5</td>\n",
       "      <td>1</td>\n",
       "      <td>3</td>\n",
       "      <td>4</td>\n",
       "      <td>5</td>\n",
       "      <td>4</td>\n",
       "    </tr>\n",
       "    <tr>\n",
       "      <th>Movie 1</th>\n",
       "      <td>1</td>\n",
       "      <td>0</td>\n",
       "      <td>0</td>\n",
       "      <td>0</td>\n",
       "      <td>2</td>\n",
       "      <td>2</td>\n",
       "      <td>4</td>\n",
       "      <td>0</td>\n",
       "    </tr>\n",
       "    <tr>\n",
       "      <th>Movie 2</th>\n",
       "      <td>1</td>\n",
       "      <td>2</td>\n",
       "      <td>2</td>\n",
       "      <td>4</td>\n",
       "      <td>5</td>\n",
       "      <td>5</td>\n",
       "      <td>0</td>\n",
       "      <td>5</td>\n",
       "    </tr>\n",
       "    <tr>\n",
       "      <th>Movie 3</th>\n",
       "      <td>4</td>\n",
       "      <td>4</td>\n",
       "      <td>2</td>\n",
       "      <td>3</td>\n",
       "      <td>4</td>\n",
       "      <td>3</td>\n",
       "      <td>0</td>\n",
       "      <td>2</td>\n",
       "    </tr>\n",
       "    <tr>\n",
       "      <th>Movie 4</th>\n",
       "      <td>5</td>\n",
       "      <td>1</td>\n",
       "      <td>4</td>\n",
       "      <td>1</td>\n",
       "      <td>0</td>\n",
       "      <td>4</td>\n",
       "      <td>4</td>\n",
       "      <td>5</td>\n",
       "    </tr>\n",
       "    <tr>\n",
       "      <th>Movie 5</th>\n",
       "      <td>3</td>\n",
       "      <td>5</td>\n",
       "      <td>0</td>\n",
       "      <td>4</td>\n",
       "      <td>0</td>\n",
       "      <td>0</td>\n",
       "      <td>5</td>\n",
       "      <td>2</td>\n",
       "    </tr>\n",
       "  </tbody>\n",
       "</table>\n",
       "</div>"
      ],
      "text/plain": [
       "         User 0  User 1  User 2  User 3  User 4  User 5  User 6  User 7\n",
       "Movie 0       1       1       5       1       3       4       5       4\n",
       "Movie 1       1       0       0       0       2       2       4       0\n",
       "Movie 2       1       2       2       4       5       5       0       5\n",
       "Movie 3       4       4       2       3       4       3       0       2\n",
       "Movie 4       5       1       4       1       0       4       4       5\n",
       "Movie 5       3       5       0       4       0       0       5       2"
      ]
     },
     "execution_count": 38,
     "metadata": {},
     "output_type": "execute_result"
    }
   ],
   "source": [
    "rows = ['Movie ' + str(x) for x in range(data.shape[0])]\n",
    "columns = ['User ' + str(x) for x in range(data.shape[1])]\n",
    "syn_df = pd.DataFrame(data, index=rows, columns=columns)\n",
    "syn_df"
   ]
  },
  {
   "cell_type": "markdown",
   "metadata": {},
   "source": [
    "Since a value of `0` means that the person has not rated that movie yet, let us replace `0` with the value `NaN`. This is useful if we want to exclude that cells with value `NaN` from the computation."
   ]
  },
  {
   "cell_type": "code",
   "execution_count": 39,
   "metadata": {},
   "outputs": [
    {
     "data": {
      "text/html": [
       "<div>\n",
       "<style scoped>\n",
       "    .dataframe tbody tr th:only-of-type {\n",
       "        vertical-align: middle;\n",
       "    }\n",
       "\n",
       "    .dataframe tbody tr th {\n",
       "        vertical-align: top;\n",
       "    }\n",
       "\n",
       "    .dataframe thead th {\n",
       "        text-align: right;\n",
       "    }\n",
       "</style>\n",
       "<table border=\"1\" class=\"dataframe\">\n",
       "  <thead>\n",
       "    <tr style=\"text-align: right;\">\n",
       "      <th></th>\n",
       "      <th>User 0</th>\n",
       "      <th>User 1</th>\n",
       "      <th>User 2</th>\n",
       "      <th>User 3</th>\n",
       "      <th>User 4</th>\n",
       "      <th>User 5</th>\n",
       "      <th>User 6</th>\n",
       "      <th>User 7</th>\n",
       "    </tr>\n",
       "  </thead>\n",
       "  <tbody>\n",
       "    <tr>\n",
       "      <th>Movie 0</th>\n",
       "      <td>1</td>\n",
       "      <td>1.0</td>\n",
       "      <td>5.0</td>\n",
       "      <td>1.0</td>\n",
       "      <td>3.0</td>\n",
       "      <td>4.0</td>\n",
       "      <td>5.0</td>\n",
       "      <td>4.0</td>\n",
       "    </tr>\n",
       "    <tr>\n",
       "      <th>Movie 1</th>\n",
       "      <td>1</td>\n",
       "      <td>NaN</td>\n",
       "      <td>NaN</td>\n",
       "      <td>NaN</td>\n",
       "      <td>2.0</td>\n",
       "      <td>2.0</td>\n",
       "      <td>4.0</td>\n",
       "      <td>NaN</td>\n",
       "    </tr>\n",
       "    <tr>\n",
       "      <th>Movie 2</th>\n",
       "      <td>1</td>\n",
       "      <td>2.0</td>\n",
       "      <td>2.0</td>\n",
       "      <td>4.0</td>\n",
       "      <td>5.0</td>\n",
       "      <td>5.0</td>\n",
       "      <td>NaN</td>\n",
       "      <td>5.0</td>\n",
       "    </tr>\n",
       "    <tr>\n",
       "      <th>Movie 3</th>\n",
       "      <td>4</td>\n",
       "      <td>4.0</td>\n",
       "      <td>2.0</td>\n",
       "      <td>3.0</td>\n",
       "      <td>4.0</td>\n",
       "      <td>3.0</td>\n",
       "      <td>NaN</td>\n",
       "      <td>2.0</td>\n",
       "    </tr>\n",
       "    <tr>\n",
       "      <th>Movie 4</th>\n",
       "      <td>5</td>\n",
       "      <td>1.0</td>\n",
       "      <td>4.0</td>\n",
       "      <td>1.0</td>\n",
       "      <td>NaN</td>\n",
       "      <td>4.0</td>\n",
       "      <td>4.0</td>\n",
       "      <td>5.0</td>\n",
       "    </tr>\n",
       "    <tr>\n",
       "      <th>Movie 5</th>\n",
       "      <td>3</td>\n",
       "      <td>5.0</td>\n",
       "      <td>NaN</td>\n",
       "      <td>4.0</td>\n",
       "      <td>NaN</td>\n",
       "      <td>NaN</td>\n",
       "      <td>5.0</td>\n",
       "      <td>2.0</td>\n",
       "    </tr>\n",
       "  </tbody>\n",
       "</table>\n",
       "</div>"
      ],
      "text/plain": [
       "         User 0  User 1  User 2  User 3  User 4  User 5  User 6  User 7\n",
       "Movie 0       1     1.0     5.0     1.0     3.0     4.0     5.0     4.0\n",
       "Movie 1       1     NaN     NaN     NaN     2.0     2.0     4.0     NaN\n",
       "Movie 2       1     2.0     2.0     4.0     5.0     5.0     NaN     5.0\n",
       "Movie 3       4     4.0     2.0     3.0     4.0     3.0     NaN     2.0\n",
       "Movie 4       5     1.0     4.0     1.0     NaN     4.0     4.0     5.0\n",
       "Movie 5       3     5.0     NaN     4.0     NaN     NaN     5.0     2.0"
      ]
     },
     "execution_count": 39,
     "metadata": {},
     "output_type": "execute_result"
    }
   ],
   "source": [
    "syn_df = syn_df.replace(0, np.nan)\n",
    "syn_df"
   ]
  },
  {
   "cell_type": "markdown",
   "metadata": {},
   "source": [
    "## Filtering the Synthetic Dataset\n",
    "Open `collaborative_filtering.py` file. Some of the functions in the `CollaborativeFiltering` class are not yet implemented. We will implement the missing parts of this class."
   ]
  },
  {
   "cell_type": "markdown",
   "metadata": {},
   "source": [
    "Import the `CollaborativeFiltering` class."
   ]
  },
  {
   "cell_type": "code",
   "execution_count": 40,
   "metadata": {},
   "outputs": [],
   "source": [
    "from collaborative_filtering import CollaborativeFiltering"
   ]
  },
  {
   "cell_type": "markdown",
   "metadata": {},
   "source": [
    "Instantiate a `CollaborativeFiltering` object with `k` equal to `2`. The parameter `k` indicates the number of similar items that we need to consider in giving similar recommendations.\n",
    "\n",
    "Assign the object to variable `cfilter`."
   ]
  },
  {
   "cell_type": "code",
   "execution_count": 41,
   "metadata": {},
   "outputs": [],
   "source": [
    "# Write your code here\n",
    "cfilter = CollaborativeFiltering(2)"
   ]
  },
  {
   "cell_type": "markdown",
   "metadata": {},
   "source": [
    "Open `collaborative_filtering.py` file and complete the `get_row_mean()` function. If the parameter `data` is a `DataFrame`, the function will return a `Series` containing the mean of each row in the `DataFrame`. If the parameter `data` is a `Series`, the function will return an `np.float64` which is the mean of the `Series`. This function should not consider blank ratings represented as `NaN`."
   ]
  },
  {
   "cell_type": "markdown",
   "metadata": {},
   "source": [
    "Implement the `get_row_mean()` function. Inline comments should help you in completing the contents of the function."
   ]
  },
  {
   "cell_type": "markdown",
   "metadata": {},
   "source": [
    "Get the row mean for movie `0` by calling the function `get_row_mean()` and assign the return value to variable `mean_0`."
   ]
  },
  {
   "cell_type": "code",
   "execution_count": 42,
   "metadata": {},
   "outputs": [],
   "source": [
    "# Write your code here\n",
    "mean_0 = cfilter.get_row_mean(syn_df.iloc[0])"
   ]
  },
  {
   "cell_type": "code",
   "execution_count": 43,
   "metadata": {},
   "outputs": [
    {
     "name": "stdout",
     "output_type": "stream",
     "text": [
      "3.00\n"
     ]
    }
   ],
   "source": [
    "print('{:.2f}'.format(mean_0))"
   ]
  },
  {
   "cell_type": "markdown",
   "metadata": {},
   "source": [
    "**Question #1:** What is the average rating of the movie `0`? Limit to 2 decimal places.\n",
    "\n",
    "Answer: 3.00"
   ]
  },
  {
   "cell_type": "markdown",
   "metadata": {},
   "source": [
    "Get the row mean for all movies by calling the function `get_row_mean()` and assign the return value to variable `mean`."
   ]
  },
  {
   "cell_type": "code",
   "execution_count": 44,
   "metadata": {},
   "outputs": [],
   "source": [
    "# Write your code here\n",
    "mean = cfilter.get_row_mean(syn_df)"
   ]
  },
  {
   "cell_type": "code",
   "execution_count": 45,
   "metadata": {},
   "outputs": [
    {
     "name": "stdout",
     "output_type": "stream",
     "text": [
      "Movie 0    3.00\n",
      "Movie 1    2.25\n",
      "Movie 2    3.43\n",
      "Movie 3    3.14\n",
      "Movie 4    3.43\n",
      "Movie 5    3.80\n",
      "dtype: float64\n"
     ]
    }
   ],
   "source": [
    "print(mean.round(2))"
   ]
  },
  {
   "cell_type": "markdown",
   "metadata": {},
   "source": [
    "**Question #2:** What is the average rating of the movie `3`? Limit to 2 decimal places.\n",
    "\n",
    "Answer: 3.14"
   ]
  },
  {
   "cell_type": "markdown",
   "metadata": {},
   "source": [
    "Open `collaborative_filtering.py` file and complete the `normalize_data()` function. This function normalizes the dataset by subtracting the row mean for each user rating for a specific movie."
   ]
  },
  {
   "cell_type": "markdown",
   "metadata": {},
   "source": [
    "Implement the `normalize_data()` function. Inline comments should help you in completing the contents of the function."
   ]
  },
  {
   "cell_type": "markdown",
   "metadata": {},
   "source": [
    "Normalize the ratings of all movies by calling the function `normalize_data()` and assign the return value to variable `normalized_df`."
   ]
  },
  {
   "cell_type": "code",
   "execution_count": 46,
   "metadata": {},
   "outputs": [],
   "source": [
    "# Write your code here\n",
    "normalized_df = cfilter.normalize_data(syn_df, mean)"
   ]
  },
  {
   "cell_type": "code",
   "execution_count": 47,
   "metadata": {},
   "outputs": [
    {
     "data": {
      "text/html": [
       "<div>\n",
       "<style scoped>\n",
       "    .dataframe tbody tr th:only-of-type {\n",
       "        vertical-align: middle;\n",
       "    }\n",
       "\n",
       "    .dataframe tbody tr th {\n",
       "        vertical-align: top;\n",
       "    }\n",
       "\n",
       "    .dataframe thead th {\n",
       "        text-align: right;\n",
       "    }\n",
       "</style>\n",
       "<table border=\"1\" class=\"dataframe\">\n",
       "  <thead>\n",
       "    <tr style=\"text-align: right;\">\n",
       "      <th></th>\n",
       "      <th>User 0</th>\n",
       "      <th>User 1</th>\n",
       "      <th>User 2</th>\n",
       "      <th>User 3</th>\n",
       "      <th>User 4</th>\n",
       "      <th>User 5</th>\n",
       "      <th>User 6</th>\n",
       "      <th>User 7</th>\n",
       "    </tr>\n",
       "  </thead>\n",
       "  <tbody>\n",
       "    <tr>\n",
       "      <th>Movie 0</th>\n",
       "      <td>-2.00</td>\n",
       "      <td>-2.00</td>\n",
       "      <td>2.00</td>\n",
       "      <td>-2.00</td>\n",
       "      <td>0.00</td>\n",
       "      <td>1.00</td>\n",
       "      <td>2.00</td>\n",
       "      <td>1.00</td>\n",
       "    </tr>\n",
       "    <tr>\n",
       "      <th>Movie 1</th>\n",
       "      <td>-1.25</td>\n",
       "      <td>NaN</td>\n",
       "      <td>NaN</td>\n",
       "      <td>NaN</td>\n",
       "      <td>-0.25</td>\n",
       "      <td>-0.25</td>\n",
       "      <td>1.75</td>\n",
       "      <td>NaN</td>\n",
       "    </tr>\n",
       "    <tr>\n",
       "      <th>Movie 2</th>\n",
       "      <td>-2.43</td>\n",
       "      <td>-1.43</td>\n",
       "      <td>-1.43</td>\n",
       "      <td>0.57</td>\n",
       "      <td>1.57</td>\n",
       "      <td>1.57</td>\n",
       "      <td>NaN</td>\n",
       "      <td>1.57</td>\n",
       "    </tr>\n",
       "    <tr>\n",
       "      <th>Movie 3</th>\n",
       "      <td>0.86</td>\n",
       "      <td>0.86</td>\n",
       "      <td>-1.14</td>\n",
       "      <td>-0.14</td>\n",
       "      <td>0.86</td>\n",
       "      <td>-0.14</td>\n",
       "      <td>NaN</td>\n",
       "      <td>-1.14</td>\n",
       "    </tr>\n",
       "    <tr>\n",
       "      <th>Movie 4</th>\n",
       "      <td>1.57</td>\n",
       "      <td>-2.43</td>\n",
       "      <td>0.57</td>\n",
       "      <td>-2.43</td>\n",
       "      <td>NaN</td>\n",
       "      <td>0.57</td>\n",
       "      <td>0.57</td>\n",
       "      <td>1.57</td>\n",
       "    </tr>\n",
       "    <tr>\n",
       "      <th>Movie 5</th>\n",
       "      <td>-0.80</td>\n",
       "      <td>1.20</td>\n",
       "      <td>NaN</td>\n",
       "      <td>0.20</td>\n",
       "      <td>NaN</td>\n",
       "      <td>NaN</td>\n",
       "      <td>1.20</td>\n",
       "      <td>-1.80</td>\n",
       "    </tr>\n",
       "  </tbody>\n",
       "</table>\n",
       "</div>"
      ],
      "text/plain": [
       "         User 0  User 1  User 2  User 3  User 4  User 5  User 6  User 7\n",
       "Movie 0   -2.00   -2.00    2.00   -2.00    0.00    1.00    2.00    1.00\n",
       "Movie 1   -1.25     NaN     NaN     NaN   -0.25   -0.25    1.75     NaN\n",
       "Movie 2   -2.43   -1.43   -1.43    0.57    1.57    1.57     NaN    1.57\n",
       "Movie 3    0.86    0.86   -1.14   -0.14    0.86   -0.14     NaN   -1.14\n",
       "Movie 4    1.57   -2.43    0.57   -2.43     NaN    0.57    0.57    1.57\n",
       "Movie 5   -0.80    1.20     NaN    0.20     NaN     NaN    1.20   -1.80"
      ]
     },
     "execution_count": 47,
     "metadata": {},
     "output_type": "execute_result"
    }
   ],
   "source": [
    "normalized_df.round(2)"
   ]
  },
  {
   "cell_type": "markdown",
   "metadata": {},
   "source": [
    "**Question #3:** What is the normalized rating of user `0` to movie `0`? Limit to 2 decimal places.\n",
    "\n",
    "Answer: -2.00"
   ]
  },
  {
   "cell_type": "markdown",
   "metadata": {},
   "source": [
    "**Question #4:** What is the normalized rating of user `4` to movie `2`? Limit to 2 decimal places.\n",
    "\n",
    "Answer: 1.57"
   ]
  },
  {
   "cell_type": "markdown",
   "metadata": {},
   "source": [
    "Open `collaborative_filtering.py` file and complete the `get_cosine_similarity()` function. This function computes and returns the cosine similarity between two vectors of the same shape. The cosine similarity, $S_c$, between two vectors $A$ and $B$ is computed as:\n",
    "$$S_c(A, B)=\\dfrac{\\sum_{i=1}^{n} A_i B_i}{\\sqrt{\\sum_{i=1}^{n} A_i^2} \\sqrt{\\sum_{i=1}^{n} B_i^2}}$$\n",
    "\n",
    "This function has 2 parameters - `vector1` and `vector2`. You may pass these combinations of data types in this function:\n",
    "- a `Series` and a `Series` - the function returns a single similarity based on these two vectors. The data type of the result is `np.float64`.\n",
    "- a `DataFrame` and a `Series` - the returns a `Series` of similarities of a single vector (represented as a `Series`) and a set of vectors (represented as a `DataFrame`). If the shape of the `DataFrame` is (3, 2), the shape of the `Series` should be (2,) to enable broadcasting. This operation will result to a `Series` of shape (3,)."
   ]
  },
  {
   "cell_type": "markdown",
   "metadata": {},
   "source": [
    "Implement the `get_cosine_similarity()` function. Inline comments should help you in completing the contents of the function."
   ]
  },
  {
   "cell_type": "markdown",
   "metadata": {},
   "source": [
    "Get the cosine similarity between movie `2` and itself by calling the function `get_cosine_similarity()` and assign the return value to variable `sim_2_2`."
   ]
  },
  {
   "cell_type": "code",
   "execution_count": 48,
   "metadata": {},
   "outputs": [],
   "source": [
    "# Write your code here\n",
    "sim_2_2 = cfilter.get_cosine_similarity(normalized_df.iloc[2], normalized_df.iloc[2])"
   ]
  },
  {
   "cell_type": "code",
   "execution_count": 49,
   "metadata": {},
   "outputs": [
    {
     "name": "stdout",
     "output_type": "stream",
     "text": [
      "Movie 2: [-2.43, -1.43, -1.43, 0.57, 1.57, 1.57, nan, 1.57]\n",
      "Movie 2: [-2.43, -1.43, -1.43, 0.57, 1.57, 1.57, nan, 1.57]\n",
      "Cosine similarity: 1.00 \n",
      "\n"
     ]
    }
   ],
   "source": [
    "print('Movie 2:', [round(x, 2) for x in normalized_df.iloc[2, :]])\n",
    "print('Movie 2:', [round(x, 2) for x in normalized_df.iloc[2, :]])\n",
    "print('Cosine similarity:', '{:.2f}'.format(sim_2_2), '\\n')"
   ]
  },
  {
   "cell_type": "markdown",
   "metadata": {},
   "source": [
    "**Question #5:** What is the cosine similarity between movie `2` and itself? Limit to 2 decimal places.\n",
    "\n",
    "Answer: 1.00"
   ]
  },
  {
   "cell_type": "markdown",
   "metadata": {},
   "source": [
    "Get the cosine similarity between movie `1` and movie `2` by calling the function `get_cosine_similarity()` and assign the return value to variable `sim_1_2`."
   ]
  },
  {
   "cell_type": "code",
   "execution_count": 50,
   "metadata": {},
   "outputs": [],
   "source": [
    "# Write your code here\n",
    "sim_1_2 = cfilter.get_cosine_similarity(normalized_df.iloc[1], normalized_df.iloc[2])"
   ]
  },
  {
   "cell_type": "code",
   "execution_count": 51,
   "metadata": {},
   "outputs": [
    {
     "name": "stdout",
     "output_type": "stream",
     "text": [
      "Movie 1: [-1.25, nan, nan, nan, -0.25, -0.25, 1.75, nan]\n",
      "Movie 2: [-2.43, -1.43, -1.43, 0.57, 1.57, 1.57, nan, 1.57]\n",
      "Cosine similarity: 0.25 \n",
      "\n"
     ]
    }
   ],
   "source": [
    "print('Movie 1:', [round(x, 2) for x in normalized_df.iloc[1, :]])\n",
    "print('Movie 2:', [round(x, 2) for x in normalized_df.iloc[2, :]])\n",
    "print('Cosine similarity:', '{:.2f}'.format(sim_1_2), '\\n')"
   ]
  },
  {
   "cell_type": "markdown",
   "metadata": {},
   "source": [
    "**Question #6:** What is the cosine similarity between movie `1` and movie `2`? Limit to 2 decimal places.\n",
    "\n",
    "Answer: 0.25"
   ]
  },
  {
   "cell_type": "markdown",
   "metadata": {},
   "source": [
    "Print the normalized score for movies `0` to `5`."
   ]
  },
  {
   "cell_type": "code",
   "execution_count": 52,
   "metadata": {},
   "outputs": [
    {
     "name": "stdout",
     "output_type": "stream",
     "text": [
      "Movie 0: [-2.0, -2.0, 2.0, -2.0, 0.0, 1.0, 2.0, 1.0]\n",
      "Movie 1: [-1.25, nan, nan, nan, -0.25, -0.25, 1.75, nan]\n",
      "Movie 2: [-2.43, -1.43, -1.43, 0.57, 1.57, 1.57, nan, 1.57]\n",
      "Movie 3: [0.86, 0.86, -1.14, -0.14, 0.86, -0.14, nan, -1.14]\n",
      "Movie 4: [1.57, -2.43, 0.57, -2.43, nan, 0.57, 0.57, 1.57]\n",
      "Movie 5: [-0.8, 1.2, nan, 0.2, nan, nan, 1.2, -1.8]\n"
     ]
    }
   ],
   "source": [
    "print('Movie 0:', [round(x, 2) for x in normalized_df.iloc[0, :]])\n",
    "print('Movie 1:', [round(x, 2) for x in normalized_df.iloc[1, :]])\n",
    "print('Movie 2:', [round(x, 2) for x in normalized_df.iloc[2, :]])\n",
    "print('Movie 3:', [round(x, 2) for x in normalized_df.iloc[3, :]])\n",
    "print('Movie 4:', [round(x, 2) for x in normalized_df.iloc[4, :]])\n",
    "print('Movie 5:', [round(x, 2) for x in normalized_df.iloc[5, :]])"
   ]
  },
  {
   "cell_type": "markdown",
   "metadata": {},
   "source": [
    "Suppose we want to get the cosine similarity between a set of vectors and another vector. Let's call the `get_cosine_similarity()` function and compute their cosine similarity. \n",
    "\n",
    "Get the cosine similarity between movie `4` and all other movies (i.e., movies `0`, `1`, `2`, `3`, and `5`) by calling the function `get_cosine_similarity()` and assign the return value to variable `sim_4`. \n",
    "\n",
    "The function should only be called once in the next code block. Do not call the `get_cosine_similarity()` function multiple times. Make sure that the `get_cosine_similarity()` function receives a `Series` and a `DataFrame`. "
   ]
  },
  {
   "cell_type": "code",
   "execution_count": 53,
   "metadata": {},
   "outputs": [],
   "source": [
    "# Write your code here\n",
    "normalized_df.round(2)\n",
    "\n",
    "movie4 = normalized_df.iloc[4]\n",
    "other_movies = normalized_df.iloc[[0, 1, 2, 3, 5]] \n",
    "sim_4 = cfilter.get_cosine_similarity(other_movies, movie4)"
   ]
  },
  {
   "cell_type": "code",
   "execution_count": 54,
   "metadata": {},
   "outputs": [
    {
     "name": "stdout",
     "output_type": "stream",
     "text": [
      "\n",
      "Cosine similarities:\n",
      "Movie 0    0.56\n",
      "Movie 1   -0.12\n",
      "Movie 2    0.05\n",
      "Movie 3   -0.31\n",
      "Movie 5   -0.62\n",
      "dtype: float64\n"
     ]
    }
   ],
   "source": [
    "print('\\nCosine similarities:\\n' + str(sim_4.round(2)))"
   ]
  },
  {
   "cell_type": "markdown",
   "metadata": {},
   "source": [
    "**Question #7:** What is the cosine similarity between movie `4` and movie `1`? Limit to 2 decimal places.\n",
    "\n",
    "Answer: -0.12"
   ]
  },
  {
   "cell_type": "markdown",
   "metadata": {},
   "source": [
    "**Question #8:** What is the cosine similarity between movie `4` and movie `3`? Limit to 2 decimal places.\n",
    "\n",
    "Answer: -0.31"
   ]
  },
  {
   "cell_type": "markdown",
   "metadata": {},
   "source": [
    "Open `collaborative_filtering.py` file and complete the `get_k_similar()` function. This function returns two values - the indices of the top `k` similar items to the vector from the dataset, and a `Series` representing their similarity values to the vector. This function has 2 parameters - `data` and `vector`. We find the top `k` items from the `DataFrame` `data` which are highly similar to the `Series` `vector`. Since we are talking about vectors, we will measure similarity using the cosine similarity, which we have implemented in the `get_cosine_similarity()` function."
   ]
  },
  {
   "cell_type": "markdown",
   "metadata": {},
   "source": [
    "Implement the `get_k_similar()` function. Inline comments should help you in completing the contents of the function."
   ]
  },
  {
   "cell_type": "markdown",
   "metadata": {},
   "source": [
    "Get the similar movies to movie `1` by calling the function `get_k_similar()` and assign the return value to variable `similar_movies`."
   ]
  },
  {
   "cell_type": "code",
   "execution_count": 55,
   "metadata": {},
   "outputs": [],
   "source": [
    "# Write your code here\n",
    "movie1 = normalized_df.iloc[1]\n",
    "other_movies = normalized_df.iloc[[0, 2, 3, 4, 5]] \n",
    "similar_movies = cfilter.get_k_similar(normalized_df, movie1)"
   ]
  },
  {
   "cell_type": "code",
   "execution_count": 56,
   "metadata": {},
   "outputs": [
    {
     "name": "stdout",
     "output_type": "stream",
     "text": [
      "Movie 1    1.00\n",
      "Movie 0    0.56\n",
      "dtype: float64\n"
     ]
    }
   ],
   "source": [
    "print(similar_movies[1].round(2))"
   ]
  },
  {
   "cell_type": "markdown",
   "metadata": {},
   "source": [
    "**Question #9:** Give the top 2 movies that are most similar to movie `1`.\n",
    "\n",
    "Answer: Movie 1 (1.00) and Movie 0 (0.56)"
   ]
  },
  {
   "cell_type": "markdown",
   "metadata": {},
   "source": [
    "Open `collaborative_filtering.py` file and complete the `get_rating()` function. This function computes and returns an extrapolated value for a missing rating. This function has 3 parameters - `data`, `index`, and `column`. The parameter `data` is the dataset represent as a `DataFrame`. The parameters `index` and `column` represent the row and column in the dataset, respectively, of the missing rating that we want to extrapolate.\n",
    "\n",
    "This function gets the top `k` similar items to the item in row `index`, then infer the missing rating for the user in column `column`.\n",
    "\n",
    "The rating of user `x` to item `i`, represented as $r_{xi}$, given the set of similar items `N`, is computed as:\n",
    "\n",
    "$$r_{xi}=\\dfrac{\\sum_{y \\in N}^{}s_{xy}r_{yi}}{\\sum_{y \\in N}^{}s_{xy}}$$"
   ]
  },
  {
   "cell_type": "markdown",
   "metadata": {},
   "source": [
    "Implement the `get_rating()` function. Inline comments should help you in completing the contents of the function."
   ]
  },
  {
   "cell_type": "markdown",
   "metadata": {},
   "source": [
    "In the synthetic dataset, user `1` has not yet rated movie `1`. Infer the rating of user `1` to movie `1` by calling the function `get_rating()` and assign the return value to variable `rating_1_1`. "
   ]
  },
  {
   "cell_type": "code",
   "execution_count": 57,
   "metadata": {},
   "outputs": [],
   "source": [
    "# Write your code here\n",
    "rating_1_1 = cfilter.get_rating(normalized_df, 1,1)"
   ]
  },
  {
   "cell_type": "code",
   "execution_count": 58,
   "metadata": {},
   "outputs": [
    {
     "name": "stdout",
     "output_type": "stream",
     "text": [
      "-0.42\n"
     ]
    }
   ],
   "source": [
    "print(round(rating_1_1, 2))"
   ]
  },
  {
   "cell_type": "markdown",
   "metadata": {},
   "source": [
    "**Question #10:** What is the predicted rating of user `1` to movie `1`? Limit to 2 decimal places.\n",
    "\n",
    "Answer: -0.42"
   ]
  },
  {
   "cell_type": "markdown",
   "metadata": {},
   "source": [
    "In the synthetic dataset, user `6` has not yet rated movie `2`. Infer the rating of user `6` to movie `2` by calling the function `get_rating()` and assign the return value to variable `rating_6_2`. "
   ]
  },
  {
   "cell_type": "code",
   "execution_count": 59,
   "metadata": {},
   "outputs": [],
   "source": [
    "# Write your code here\n",
    "rating_6_2 = cfilter.get_rating(normalized_df, 2, 6)"
   ]
  },
  {
   "cell_type": "code",
   "execution_count": 60,
   "metadata": {},
   "outputs": [
    {
     "name": "stdout",
     "output_type": "stream",
     "text": [
      "1.9\n"
     ]
    }
   ],
   "source": [
    "print(round(rating_6_2, 2))"
   ]
  },
  {
   "cell_type": "markdown",
   "metadata": {},
   "source": [
    "**Question #11:** What is the predicted rating of user `6` to movie `2`? Limit to 2 decimal places.\n",
    "\n",
    "Answer: 1.90"
   ]
  },
  {
   "cell_type": "markdown",
   "metadata": {},
   "source": [
    "## MovieLens Dataset\n",
    "For this notebook, we will work on a dataset called `MovieLens dataset`. This dataset contains 1682 movies rated by 943 users, from 1-5. There are a total of 100k ratings. We have already pre-processed the dataset to be stored as a csv file, where each row represents a movie and a column represents a user. The value in row `x` and column `y` is the rating of user `y` to movie `x`. A rating of 0 means that the user has not rated the item yet.\n",
    "\n",
    "The dataset is provided to you as a `.csv` file. `.csv` means comma-separated values. You can open the file in Notepad to see how it is exactly formatted."
   ]
  },
  {
   "cell_type": "markdown",
   "metadata": {},
   "source": [
    "Let's read the dataset."
   ]
  },
  {
   "cell_type": "code",
   "execution_count": 61,
   "metadata": {},
   "outputs": [],
   "source": [
    "ml_df = pd.read_csv('ml-100k.csv', header=None)"
   ]
  },
  {
   "cell_type": "markdown",
   "metadata": {},
   "source": [
    "Let's read the file `u.txt` which contains details about the movies in the dataset. This is a tab separated\n",
    "list of:\n",
    "movie id | movie title | release date | video release date |IMDb URL | unknown | Action | Adventure | Animation | Children's | Comedy | Crime | Documentary | Drama | Fantasy | Film-Noir | Horror | Musical | Mystery | Romance | Sci-Fi | Thriller | War | Western |\n",
    "The last 19 fields are the genres, a `1` indicates the movie is of that genre, a `0` indicates it is not; movies can be in several genres at once.\n",
    "From this file, we will get the index of our `DataFrame`."
   ]
  },
  {
   "cell_type": "code",
   "execution_count": 62,
   "metadata": {},
   "outputs": [],
   "source": [
    "indices = []\n",
    "with open('u.txt','r', encoding='ISO-8859-1') as f:\n",
    "    line = f.readline()\n",
    "    while line != '':\n",
    "        indices.append(line.split('|')[1])\n",
    "        line = f.readline()\n",
    "ml_df.index = indices\n",
    "ml_df.columns = ['User ' + str(x) for x in range(943)]"
   ]
  },
  {
   "cell_type": "markdown",
   "metadata": {},
   "source": [
    "Since a value of `0` means that the person has not rated that movie yet, let us replace `0` with the value `NaN`. This is useful if we want to exclude that cells with value `NaN` from the computation."
   ]
  },
  {
   "cell_type": "code",
   "execution_count": 63,
   "metadata": {},
   "outputs": [
    {
     "data": {
      "text/html": [
       "<div>\n",
       "<style scoped>\n",
       "    .dataframe tbody tr th:only-of-type {\n",
       "        vertical-align: middle;\n",
       "    }\n",
       "\n",
       "    .dataframe tbody tr th {\n",
       "        vertical-align: top;\n",
       "    }\n",
       "\n",
       "    .dataframe thead th {\n",
       "        text-align: right;\n",
       "    }\n",
       "</style>\n",
       "<table border=\"1\" class=\"dataframe\">\n",
       "  <thead>\n",
       "    <tr style=\"text-align: right;\">\n",
       "      <th></th>\n",
       "      <th>User 0</th>\n",
       "      <th>User 1</th>\n",
       "      <th>User 2</th>\n",
       "      <th>User 3</th>\n",
       "      <th>User 4</th>\n",
       "      <th>User 5</th>\n",
       "      <th>User 6</th>\n",
       "      <th>User 7</th>\n",
       "      <th>User 8</th>\n",
       "      <th>User 9</th>\n",
       "      <th>...</th>\n",
       "      <th>User 933</th>\n",
       "      <th>User 934</th>\n",
       "      <th>User 935</th>\n",
       "      <th>User 936</th>\n",
       "      <th>User 937</th>\n",
       "      <th>User 938</th>\n",
       "      <th>User 939</th>\n",
       "      <th>User 940</th>\n",
       "      <th>User 941</th>\n",
       "      <th>User 942</th>\n",
       "    </tr>\n",
       "  </thead>\n",
       "  <tbody>\n",
       "    <tr>\n",
       "      <th>Toy Story (1995)</th>\n",
       "      <td>5.0</td>\n",
       "      <td>4.0</td>\n",
       "      <td>NaN</td>\n",
       "      <td>NaN</td>\n",
       "      <td>4.0</td>\n",
       "      <td>4.0</td>\n",
       "      <td>NaN</td>\n",
       "      <td>NaN</td>\n",
       "      <td>NaN</td>\n",
       "      <td>4.0</td>\n",
       "      <td>...</td>\n",
       "      <td>2.0</td>\n",
       "      <td>3.0</td>\n",
       "      <td>4.0</td>\n",
       "      <td>NaN</td>\n",
       "      <td>4.0</td>\n",
       "      <td>NaN</td>\n",
       "      <td>NaN</td>\n",
       "      <td>5.0</td>\n",
       "      <td>NaN</td>\n",
       "      <td>NaN</td>\n",
       "    </tr>\n",
       "    <tr>\n",
       "      <th>GoldenEye (1995)</th>\n",
       "      <td>3.0</td>\n",
       "      <td>NaN</td>\n",
       "      <td>NaN</td>\n",
       "      <td>NaN</td>\n",
       "      <td>3.0</td>\n",
       "      <td>NaN</td>\n",
       "      <td>NaN</td>\n",
       "      <td>NaN</td>\n",
       "      <td>NaN</td>\n",
       "      <td>NaN</td>\n",
       "      <td>...</td>\n",
       "      <td>4.0</td>\n",
       "      <td>NaN</td>\n",
       "      <td>NaN</td>\n",
       "      <td>NaN</td>\n",
       "      <td>NaN</td>\n",
       "      <td>NaN</td>\n",
       "      <td>NaN</td>\n",
       "      <td>NaN</td>\n",
       "      <td>NaN</td>\n",
       "      <td>5.0</td>\n",
       "    </tr>\n",
       "    <tr>\n",
       "      <th>Four Rooms (1995)</th>\n",
       "      <td>4.0</td>\n",
       "      <td>NaN</td>\n",
       "      <td>NaN</td>\n",
       "      <td>NaN</td>\n",
       "      <td>NaN</td>\n",
       "      <td>NaN</td>\n",
       "      <td>NaN</td>\n",
       "      <td>NaN</td>\n",
       "      <td>NaN</td>\n",
       "      <td>NaN</td>\n",
       "      <td>...</td>\n",
       "      <td>NaN</td>\n",
       "      <td>NaN</td>\n",
       "      <td>4.0</td>\n",
       "      <td>NaN</td>\n",
       "      <td>NaN</td>\n",
       "      <td>NaN</td>\n",
       "      <td>NaN</td>\n",
       "      <td>NaN</td>\n",
       "      <td>NaN</td>\n",
       "      <td>NaN</td>\n",
       "    </tr>\n",
       "    <tr>\n",
       "      <th>Get Shorty (1995)</th>\n",
       "      <td>3.0</td>\n",
       "      <td>NaN</td>\n",
       "      <td>NaN</td>\n",
       "      <td>NaN</td>\n",
       "      <td>NaN</td>\n",
       "      <td>NaN</td>\n",
       "      <td>5.0</td>\n",
       "      <td>NaN</td>\n",
       "      <td>NaN</td>\n",
       "      <td>4.0</td>\n",
       "      <td>...</td>\n",
       "      <td>5.0</td>\n",
       "      <td>NaN</td>\n",
       "      <td>NaN</td>\n",
       "      <td>NaN</td>\n",
       "      <td>NaN</td>\n",
       "      <td>NaN</td>\n",
       "      <td>2.0</td>\n",
       "      <td>NaN</td>\n",
       "      <td>NaN</td>\n",
       "      <td>NaN</td>\n",
       "    </tr>\n",
       "    <tr>\n",
       "      <th>Copycat (1995)</th>\n",
       "      <td>3.0</td>\n",
       "      <td>NaN</td>\n",
       "      <td>NaN</td>\n",
       "      <td>NaN</td>\n",
       "      <td>NaN</td>\n",
       "      <td>NaN</td>\n",
       "      <td>NaN</td>\n",
       "      <td>NaN</td>\n",
       "      <td>NaN</td>\n",
       "      <td>NaN</td>\n",
       "      <td>...</td>\n",
       "      <td>NaN</td>\n",
       "      <td>NaN</td>\n",
       "      <td>NaN</td>\n",
       "      <td>NaN</td>\n",
       "      <td>NaN</td>\n",
       "      <td>NaN</td>\n",
       "      <td>NaN</td>\n",
       "      <td>NaN</td>\n",
       "      <td>NaN</td>\n",
       "      <td>NaN</td>\n",
       "    </tr>\n",
       "    <tr>\n",
       "      <th>...</th>\n",
       "      <td>...</td>\n",
       "      <td>...</td>\n",
       "      <td>...</td>\n",
       "      <td>...</td>\n",
       "      <td>...</td>\n",
       "      <td>...</td>\n",
       "      <td>...</td>\n",
       "      <td>...</td>\n",
       "      <td>...</td>\n",
       "      <td>...</td>\n",
       "      <td>...</td>\n",
       "      <td>...</td>\n",
       "      <td>...</td>\n",
       "      <td>...</td>\n",
       "      <td>...</td>\n",
       "      <td>...</td>\n",
       "      <td>...</td>\n",
       "      <td>...</td>\n",
       "      <td>...</td>\n",
       "      <td>...</td>\n",
       "      <td>...</td>\n",
       "    </tr>\n",
       "    <tr>\n",
       "      <th>Mat' i syn (1997)</th>\n",
       "      <td>NaN</td>\n",
       "      <td>NaN</td>\n",
       "      <td>NaN</td>\n",
       "      <td>NaN</td>\n",
       "      <td>NaN</td>\n",
       "      <td>NaN</td>\n",
       "      <td>NaN</td>\n",
       "      <td>NaN</td>\n",
       "      <td>NaN</td>\n",
       "      <td>NaN</td>\n",
       "      <td>...</td>\n",
       "      <td>NaN</td>\n",
       "      <td>NaN</td>\n",
       "      <td>NaN</td>\n",
       "      <td>NaN</td>\n",
       "      <td>NaN</td>\n",
       "      <td>NaN</td>\n",
       "      <td>NaN</td>\n",
       "      <td>NaN</td>\n",
       "      <td>NaN</td>\n",
       "      <td>NaN</td>\n",
       "    </tr>\n",
       "    <tr>\n",
       "      <th>B. Monkey (1998)</th>\n",
       "      <td>NaN</td>\n",
       "      <td>NaN</td>\n",
       "      <td>NaN</td>\n",
       "      <td>NaN</td>\n",
       "      <td>NaN</td>\n",
       "      <td>NaN</td>\n",
       "      <td>NaN</td>\n",
       "      <td>NaN</td>\n",
       "      <td>NaN</td>\n",
       "      <td>NaN</td>\n",
       "      <td>...</td>\n",
       "      <td>NaN</td>\n",
       "      <td>NaN</td>\n",
       "      <td>NaN</td>\n",
       "      <td>NaN</td>\n",
       "      <td>NaN</td>\n",
       "      <td>NaN</td>\n",
       "      <td>NaN</td>\n",
       "      <td>NaN</td>\n",
       "      <td>NaN</td>\n",
       "      <td>NaN</td>\n",
       "    </tr>\n",
       "    <tr>\n",
       "      <th>Sliding Doors (1998)</th>\n",
       "      <td>NaN</td>\n",
       "      <td>NaN</td>\n",
       "      <td>NaN</td>\n",
       "      <td>NaN</td>\n",
       "      <td>NaN</td>\n",
       "      <td>NaN</td>\n",
       "      <td>NaN</td>\n",
       "      <td>NaN</td>\n",
       "      <td>NaN</td>\n",
       "      <td>NaN</td>\n",
       "      <td>...</td>\n",
       "      <td>NaN</td>\n",
       "      <td>NaN</td>\n",
       "      <td>NaN</td>\n",
       "      <td>NaN</td>\n",
       "      <td>NaN</td>\n",
       "      <td>NaN</td>\n",
       "      <td>NaN</td>\n",
       "      <td>NaN</td>\n",
       "      <td>NaN</td>\n",
       "      <td>NaN</td>\n",
       "    </tr>\n",
       "    <tr>\n",
       "      <th>You So Crazy (1994)</th>\n",
       "      <td>NaN</td>\n",
       "      <td>NaN</td>\n",
       "      <td>NaN</td>\n",
       "      <td>NaN</td>\n",
       "      <td>NaN</td>\n",
       "      <td>NaN</td>\n",
       "      <td>NaN</td>\n",
       "      <td>NaN</td>\n",
       "      <td>NaN</td>\n",
       "      <td>NaN</td>\n",
       "      <td>...</td>\n",
       "      <td>NaN</td>\n",
       "      <td>NaN</td>\n",
       "      <td>NaN</td>\n",
       "      <td>NaN</td>\n",
       "      <td>NaN</td>\n",
       "      <td>NaN</td>\n",
       "      <td>NaN</td>\n",
       "      <td>NaN</td>\n",
       "      <td>NaN</td>\n",
       "      <td>NaN</td>\n",
       "    </tr>\n",
       "    <tr>\n",
       "      <th>Scream of Stone (Schrei aus Stein) (1991)</th>\n",
       "      <td>NaN</td>\n",
       "      <td>NaN</td>\n",
       "      <td>NaN</td>\n",
       "      <td>NaN</td>\n",
       "      <td>NaN</td>\n",
       "      <td>NaN</td>\n",
       "      <td>NaN</td>\n",
       "      <td>NaN</td>\n",
       "      <td>NaN</td>\n",
       "      <td>NaN</td>\n",
       "      <td>...</td>\n",
       "      <td>NaN</td>\n",
       "      <td>NaN</td>\n",
       "      <td>NaN</td>\n",
       "      <td>NaN</td>\n",
       "      <td>NaN</td>\n",
       "      <td>NaN</td>\n",
       "      <td>NaN</td>\n",
       "      <td>NaN</td>\n",
       "      <td>NaN</td>\n",
       "      <td>NaN</td>\n",
       "    </tr>\n",
       "  </tbody>\n",
       "</table>\n",
       "<p>1682 rows × 943 columns</p>\n",
       "</div>"
      ],
      "text/plain": [
       "                                           User 0  User 1  User 2  User 3  \\\n",
       "Toy Story (1995)                              5.0     4.0     NaN     NaN   \n",
       "GoldenEye (1995)                              3.0     NaN     NaN     NaN   \n",
       "Four Rooms (1995)                             4.0     NaN     NaN     NaN   \n",
       "Get Shorty (1995)                             3.0     NaN     NaN     NaN   \n",
       "Copycat (1995)                                3.0     NaN     NaN     NaN   \n",
       "...                                           ...     ...     ...     ...   \n",
       "Mat' i syn (1997)                             NaN     NaN     NaN     NaN   \n",
       "B. Monkey (1998)                              NaN     NaN     NaN     NaN   \n",
       "Sliding Doors (1998)                          NaN     NaN     NaN     NaN   \n",
       "You So Crazy (1994)                           NaN     NaN     NaN     NaN   \n",
       "Scream of Stone (Schrei aus Stein) (1991)     NaN     NaN     NaN     NaN   \n",
       "\n",
       "                                           User 4  User 5  User 6  User 7  \\\n",
       "Toy Story (1995)                              4.0     4.0     NaN     NaN   \n",
       "GoldenEye (1995)                              3.0     NaN     NaN     NaN   \n",
       "Four Rooms (1995)                             NaN     NaN     NaN     NaN   \n",
       "Get Shorty (1995)                             NaN     NaN     5.0     NaN   \n",
       "Copycat (1995)                                NaN     NaN     NaN     NaN   \n",
       "...                                           ...     ...     ...     ...   \n",
       "Mat' i syn (1997)                             NaN     NaN     NaN     NaN   \n",
       "B. Monkey (1998)                              NaN     NaN     NaN     NaN   \n",
       "Sliding Doors (1998)                          NaN     NaN     NaN     NaN   \n",
       "You So Crazy (1994)                           NaN     NaN     NaN     NaN   \n",
       "Scream of Stone (Schrei aus Stein) (1991)     NaN     NaN     NaN     NaN   \n",
       "\n",
       "                                           User 8  User 9  ...  User 933  \\\n",
       "Toy Story (1995)                              NaN     4.0  ...       2.0   \n",
       "GoldenEye (1995)                              NaN     NaN  ...       4.0   \n",
       "Four Rooms (1995)                             NaN     NaN  ...       NaN   \n",
       "Get Shorty (1995)                             NaN     4.0  ...       5.0   \n",
       "Copycat (1995)                                NaN     NaN  ...       NaN   \n",
       "...                                           ...     ...  ...       ...   \n",
       "Mat' i syn (1997)                             NaN     NaN  ...       NaN   \n",
       "B. Monkey (1998)                              NaN     NaN  ...       NaN   \n",
       "Sliding Doors (1998)                          NaN     NaN  ...       NaN   \n",
       "You So Crazy (1994)                           NaN     NaN  ...       NaN   \n",
       "Scream of Stone (Schrei aus Stein) (1991)     NaN     NaN  ...       NaN   \n",
       "\n",
       "                                           User 934  User 935  User 936  \\\n",
       "Toy Story (1995)                                3.0       4.0       NaN   \n",
       "GoldenEye (1995)                                NaN       NaN       NaN   \n",
       "Four Rooms (1995)                               NaN       4.0       NaN   \n",
       "Get Shorty (1995)                               NaN       NaN       NaN   \n",
       "Copycat (1995)                                  NaN       NaN       NaN   \n",
       "...                                             ...       ...       ...   \n",
       "Mat' i syn (1997)                               NaN       NaN       NaN   \n",
       "B. Monkey (1998)                                NaN       NaN       NaN   \n",
       "Sliding Doors (1998)                            NaN       NaN       NaN   \n",
       "You So Crazy (1994)                             NaN       NaN       NaN   \n",
       "Scream of Stone (Schrei aus Stein) (1991)       NaN       NaN       NaN   \n",
       "\n",
       "                                           User 937  User 938  User 939  \\\n",
       "Toy Story (1995)                                4.0       NaN       NaN   \n",
       "GoldenEye (1995)                                NaN       NaN       NaN   \n",
       "Four Rooms (1995)                               NaN       NaN       NaN   \n",
       "Get Shorty (1995)                               NaN       NaN       2.0   \n",
       "Copycat (1995)                                  NaN       NaN       NaN   \n",
       "...                                             ...       ...       ...   \n",
       "Mat' i syn (1997)                               NaN       NaN       NaN   \n",
       "B. Monkey (1998)                                NaN       NaN       NaN   \n",
       "Sliding Doors (1998)                            NaN       NaN       NaN   \n",
       "You So Crazy (1994)                             NaN       NaN       NaN   \n",
       "Scream of Stone (Schrei aus Stein) (1991)       NaN       NaN       NaN   \n",
       "\n",
       "                                           User 940  User 941  User 942  \n",
       "Toy Story (1995)                                5.0       NaN       NaN  \n",
       "GoldenEye (1995)                                NaN       NaN       5.0  \n",
       "Four Rooms (1995)                               NaN       NaN       NaN  \n",
       "Get Shorty (1995)                               NaN       NaN       NaN  \n",
       "Copycat (1995)                                  NaN       NaN       NaN  \n",
       "...                                             ...       ...       ...  \n",
       "Mat' i syn (1997)                               NaN       NaN       NaN  \n",
       "B. Monkey (1998)                                NaN       NaN       NaN  \n",
       "Sliding Doors (1998)                            NaN       NaN       NaN  \n",
       "You So Crazy (1994)                             NaN       NaN       NaN  \n",
       "Scream of Stone (Schrei aus Stein) (1991)       NaN       NaN       NaN  \n",
       "\n",
       "[1682 rows x 943 columns]"
      ]
     },
     "execution_count": 63,
     "metadata": {},
     "output_type": "execute_result"
    }
   ],
   "source": [
    "# Write your code here\n",
    "ml_df = ml_df.replace(0, np.nan)\n",
    "ml_df"
   ]
  },
  {
   "cell_type": "markdown",
   "metadata": {},
   "source": [
    "Instantiate a `CollaborativeFiltering` object with `k` equal to `3`. The parameter `k` indicates the number of similar items that we need to consider in giving similar recommendations."
   ]
  },
  {
   "cell_type": "code",
   "execution_count": 64,
   "metadata": {},
   "outputs": [],
   "source": [
    "# Write your code here\n",
    "cfilter = CollaborativeFiltering(3)"
   ]
  },
  {
   "cell_type": "markdown",
   "metadata": {},
   "source": [
    "Get similar movies to `Lion King, The (1994)`. Assign the return value to variable `similar_movies`. "
   ]
  },
  {
   "cell_type": "code",
   "execution_count": 65,
   "metadata": {},
   "outputs": [],
   "source": [
    "# Write your code here\n",
    "lion_king_vector = ml_df.loc['Lion King, The (1994)'] # vector of lion king\n",
    "other_movies = ml_df.drop('Lion King, The (1994)') # df without lion king\n",
    "similar_movies = cfilter.get_k_similar(other_movies, lion_king_vector)"
   ]
  },
  {
   "cell_type": "code",
   "execution_count": 66,
   "metadata": {},
   "outputs": [
    {
     "name": "stdout",
     "output_type": "stream",
     "text": [
      "Aladdin (1992)                          0.38\n",
      "Beauty and the Beast (1991)             0.36\n",
      "Robin Hood: Prince of Thieves (1991)    0.29\n",
      "dtype: float64\n"
     ]
    }
   ],
   "source": [
    "print(similar_movies[1].round(2))"
   ]
  },
  {
   "cell_type": "markdown",
   "metadata": {},
   "source": [
    "**Question #12:** Give the top 3 movies that are most similar to `Lion King, The (1994)`.\n",
    "\n",
    "Answer: "
   ]
  },
  {
   "cell_type": "markdown",
   "metadata": {},
   "source": [
    "Get similar movies to `Amityville Curse, The (1990)`. Assign the return value to variable `similar_movies`. "
   ]
  },
  {
   "cell_type": "code",
   "execution_count": 67,
   "metadata": {},
   "outputs": [],
   "source": [
    "# Write your code here\n",
    "amityville_vector = ml_df.loc['Amityville Curse, The (1990)'] # vector of amityville\n",
    "other_movies = ml_df.drop('Amityville Curse, The (1990)') # df without amityville\n",
    "\n",
    "similar_movies = cfilter.get_k_similar(other_movies, amityville_vector)"
   ]
  },
  {
   "cell_type": "code",
   "execution_count": 68,
   "metadata": {},
   "outputs": [
    {
     "name": "stdout",
     "output_type": "stream",
     "text": [
      "Amityville 3-D (1983)    0.95\n",
      "Bad Moon (1996)          0.33\n",
      "Fog, The (1980)          0.32\n",
      "dtype: float64\n"
     ]
    }
   ],
   "source": [
    "print(similar_movies[1].round(2))"
   ]
  },
  {
   "cell_type": "markdown",
   "metadata": {},
   "source": [
    "**Question #13:** Give the top 3 movies that are most similar to `Amityville Curse, The (1990)`.\n",
    "\n",
    "Answer:\n",
    "- Amityville 3-D (1983): 0.95\n",
    "- Bad Moon (1996): 0.33\n",
    "- Fog, The (1980): 0.32"
   ]
  },
  {
   "cell_type": "markdown",
   "metadata": {},
   "source": [
    "Get similar movies to `Star Trek: The Wrath of Khan (1982)`. Assign the return value to variable `similar_movies`. "
   ]
  },
  {
   "cell_type": "code",
   "execution_count": 69,
   "metadata": {},
   "outputs": [],
   "source": [
    "# Write your code here\n",
    "khan_vector = ml_df.loc['Star Trek: The Wrath of Khan (1982)'] # star trek vector\n",
    "other_movies = ml_df.drop('Star Trek: The Wrath of Khan (1982)') # df without star trek\n",
    "\n",
    "similar_movies = cfilter.get_k_similar(other_movies, khan_vector)"
   ]
  },
  {
   "cell_type": "code",
   "execution_count": 70,
   "metadata": {},
   "outputs": [
    {
     "name": "stdout",
     "output_type": "stream",
     "text": [
      "Star Trek IV: The Voyage Home (1986)             0.40\n",
      "Star Trek III: The Search for Spock (1984)       0.38\n",
      "Star Trek VI: The Undiscovered Country (1991)    0.33\n",
      "dtype: float64\n"
     ]
    }
   ],
   "source": [
    "print(similar_movies[1].round(2))"
   ]
  },
  {
   "cell_type": "markdown",
   "metadata": {},
   "source": [
    "**Question #14:** Give the top 3 movies that are most similar to `Star Trek: The Wrath of Khan (1982)`.\n",
    "\n",
    "Answer:\n",
    "- Star Trek IV: The Voyage Home (1986): 0.40\n",
    "- Star Trek III: The Search for Spock (1984): 0.38\n",
    "- Star Trek VI: The Undiscovered Country (1991): 0.33"
   ]
  }
 ],
 "metadata": {
  "kernelspec": {
   "display_name": "Python 3 (ipykernel)",
   "language": "python",
   "name": "python3"
  },
  "language_info": {
   "codemirror_mode": {
    "name": "ipython",
    "version": 3
   },
   "file_extension": ".py",
   "mimetype": "text/x-python",
   "name": "python",
   "nbconvert_exporter": "python",
   "pygments_lexer": "ipython3",
   "version": "3.11.6"
  }
 },
 "nbformat": 4,
 "nbformat_minor": 4
}
